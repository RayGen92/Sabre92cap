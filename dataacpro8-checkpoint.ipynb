{
 "cells": [
  {
   "cell_type": "code",
   "execution_count": null,
   "metadata": {
    "collapsed": false,
    "deletable": true,
    "editable": true
   },
   "outputs": [],
   "source": [
    "import pandas as pd\n",
    "flightsDB=pd.read_csv('http://s3.amazonaws.com/jsw.dsprojects/AirlinePredictions/CombinedFlights.csv')"
   ]
  },
  {
   "cell_type": "code",
   "execution_count": 2,
   "metadata": {
    "collapsed": false,
    "deletable": true,
    "editable": true
   },
   "outputs": [
    {
     "data": {
      "text/html": [
       "<div>\n",
       "<table border=\"1\" class=\"dataframe\">\n",
       "  <thead>\n",
       "    <tr style=\"text-align: right;\">\n",
       "      <th></th>\n",
       "      <th>Unnamed: 0</th>\n",
       "      <th>YEAR</th>\n",
       "      <th>MONTH</th>\n",
       "      <th>DAY_OF_MONTH</th>\n",
       "      <th>DAY_OF_WEEK</th>\n",
       "      <th>UNIQUE_CARRIER</th>\n",
       "      <th>ORIGIN_AIRPORT_ID</th>\n",
       "      <th>DEST_AIRPORT_ID</th>\n",
       "      <th>CRS_DEP_TIME</th>\n",
       "      <th>CRS_ARR_TIME</th>\n",
       "      <th>ARR_DELAY</th>\n",
       "      <th>CRS_ELAPSED_TIME</th>\n",
       "      <th>DISTANCE</th>\n",
       "      <th>X</th>\n",
       "    </tr>\n",
       "  </thead>\n",
       "  <tbody>\n",
       "    <tr>\n",
       "      <th>0</th>\n",
       "      <td>1</td>\n",
       "      <td>2014</td>\n",
       "      <td>1</td>\n",
       "      <td>1</td>\n",
       "      <td>3</td>\n",
       "      <td>AA</td>\n",
       "      <td>12478</td>\n",
       "      <td>12892</td>\n",
       "      <td>900</td>\n",
       "      <td>1225</td>\n",
       "      <td>13.0</td>\n",
       "      <td>385.0</td>\n",
       "      <td>2475</td>\n",
       "      <td>NaN</td>\n",
       "    </tr>\n",
       "    <tr>\n",
       "      <th>1</th>\n",
       "      <td>2</td>\n",
       "      <td>2014</td>\n",
       "      <td>1</td>\n",
       "      <td>2</td>\n",
       "      <td>4</td>\n",
       "      <td>AA</td>\n",
       "      <td>12478</td>\n",
       "      <td>12892</td>\n",
       "      <td>900</td>\n",
       "      <td>1225</td>\n",
       "      <td>1.0</td>\n",
       "      <td>385.0</td>\n",
       "      <td>2475</td>\n",
       "      <td>NaN</td>\n",
       "    </tr>\n",
       "    <tr>\n",
       "      <th>2</th>\n",
       "      <td>3</td>\n",
       "      <td>2014</td>\n",
       "      <td>1</td>\n",
       "      <td>3</td>\n",
       "      <td>5</td>\n",
       "      <td>AA</td>\n",
       "      <td>12478</td>\n",
       "      <td>12892</td>\n",
       "      <td>900</td>\n",
       "      <td>1225</td>\n",
       "      <td>NaN</td>\n",
       "      <td>385.0</td>\n",
       "      <td>2475</td>\n",
       "      <td>NaN</td>\n",
       "    </tr>\n",
       "    <tr>\n",
       "      <th>3</th>\n",
       "      <td>4</td>\n",
       "      <td>2014</td>\n",
       "      <td>1</td>\n",
       "      <td>4</td>\n",
       "      <td>6</td>\n",
       "      <td>AA</td>\n",
       "      <td>12478</td>\n",
       "      <td>12892</td>\n",
       "      <td>900</td>\n",
       "      <td>1225</td>\n",
       "      <td>59.0</td>\n",
       "      <td>385.0</td>\n",
       "      <td>2475</td>\n",
       "      <td>NaN</td>\n",
       "    </tr>\n",
       "    <tr>\n",
       "      <th>4</th>\n",
       "      <td>5</td>\n",
       "      <td>2014</td>\n",
       "      <td>1</td>\n",
       "      <td>5</td>\n",
       "      <td>7</td>\n",
       "      <td>AA</td>\n",
       "      <td>12478</td>\n",
       "      <td>12892</td>\n",
       "      <td>900</td>\n",
       "      <td>1225</td>\n",
       "      <td>110.0</td>\n",
       "      <td>385.0</td>\n",
       "      <td>2475</td>\n",
       "      <td>NaN</td>\n",
       "    </tr>\n",
       "  </tbody>\n",
       "</table>\n",
       "</div>"
      ],
      "text/plain": [
       "   Unnamed: 0  YEAR  MONTH  DAY_OF_MONTH  DAY_OF_WEEK UNIQUE_CARRIER  \\\n",
       "0           1  2014      1             1            3             AA   \n",
       "1           2  2014      1             2            4             AA   \n",
       "2           3  2014      1             3            5             AA   \n",
       "3           4  2014      1             4            6             AA   \n",
       "4           5  2014      1             5            7             AA   \n",
       "\n",
       "   ORIGIN_AIRPORT_ID  DEST_AIRPORT_ID  CRS_DEP_TIME  CRS_ARR_TIME  ARR_DELAY  \\\n",
       "0              12478            12892           900          1225       13.0   \n",
       "1              12478            12892           900          1225        1.0   \n",
       "2              12478            12892           900          1225        NaN   \n",
       "3              12478            12892           900          1225       59.0   \n",
       "4              12478            12892           900          1225      110.0   \n",
       "\n",
       "   CRS_ELAPSED_TIME  DISTANCE   X  \n",
       "0             385.0      2475 NaN  \n",
       "1             385.0      2475 NaN  \n",
       "2             385.0      2475 NaN  \n",
       "3             385.0      2475 NaN  \n",
       "4             385.0      2475 NaN  "
      ]
     },
     "execution_count": 2,
     "metadata": {},
     "output_type": "execute_result"
    }
   ],
   "source": [
    "flightsDB.head(5)"
   ]
  },
  {
   "cell_type": "code",
   "execution_count": 3,
   "metadata": {
    "collapsed": false,
    "deletable": true,
    "editable": true
   },
   "outputs": [],
   "source": [
    "del flightsDB['X']"
   ]
  },
  {
   "cell_type": "code",
   "execution_count": 4,
   "metadata": {
    "collapsed": false,
    "deletable": true,
    "editable": true
   },
   "outputs": [],
   "source": [
    "import numpy as np\n",
    "fltdba,fltdbb,fltdbc = np.split(flightsDB, [int(.1*len(flightsDB)), int(.5*len(flightsDB))])"
   ]
  },
  {
   "cell_type": "code",
   "execution_count": 5,
   "metadata": {
    "collapsed": false,
    "deletable": true,
    "editable": true
   },
   "outputs": [
    {
     "data": {
      "text/plain": [
       "590060"
      ]
     },
     "execution_count": 5,
     "metadata": {},
     "output_type": "execute_result"
    }
   ],
   "source": [
    "len(fltdba)"
   ]
  },
  {
   "cell_type": "code",
   "execution_count": 6,
   "metadata": {
    "collapsed": false,
    "deletable": true,
    "editable": true
   },
   "outputs": [
    {
     "name": "stdout",
     "output_type": "stream",
     "text": [
      "<class 'pandas.core.frame.DataFrame'>\n",
      "RangeIndex: 590060 entries, 0 to 590059\n",
      "Data columns (total 13 columns):\n",
      "Unnamed: 0           590060 non-null int64\n",
      "YEAR                 590060 non-null int64\n",
      "MONTH                590060 non-null int64\n",
      "DAY_OF_MONTH         590060 non-null int64\n",
      "DAY_OF_WEEK          590060 non-null int64\n",
      "UNIQUE_CARRIER       590060 non-null object\n",
      "ORIGIN_AIRPORT_ID    590060 non-null int64\n",
      "DEST_AIRPORT_ID      590060 non-null int64\n",
      "CRS_DEP_TIME         590060 non-null int64\n",
      "CRS_ARR_TIME         590060 non-null int64\n",
      "ARR_DELAY            552312 non-null float64\n",
      "CRS_ELAPSED_TIME     590060 non-null float64\n",
      "DISTANCE             590060 non-null int64\n",
      "dtypes: float64(2), int64(10), object(1)\n",
      "memory usage: 58.5+ MB\n",
      "None\n",
      "Unnamed: 0               0\n",
      "YEAR                     0\n",
      "MONTH                    0\n",
      "DAY_OF_MONTH             0\n",
      "DAY_OF_WEEK              0\n",
      "UNIQUE_CARRIER           0\n",
      "ORIGIN_AIRPORT_ID        0\n",
      "DEST_AIRPORT_ID          0\n",
      "CRS_DEP_TIME             0\n",
      "CRS_ARR_TIME             0\n",
      "ARR_DELAY            37748\n",
      "CRS_ELAPSED_TIME         0\n",
      "DISTANCE                 0\n",
      "dtype: int64\n"
     ]
    }
   ],
   "source": [
    "fltdba['CRS_ARR_TIME']=fltdba['CRS_ARR_TIME']%24\n",
    "\n",
    "print (fltdba.info())\n",
    "\n",
    "print(fltdba.isnull().sum()) #Checking to see NaNs\n",
    "\n"
   ]
  },
  {
   "cell_type": "code",
   "execution_count": 7,
   "metadata": {
    "collapsed": true,
    "deletable": true,
    "editable": true
   },
   "outputs": [],
   "source": [
    "chart=fltdba.groupby(['DAY_OF_WEEK'], as_index=False)['ARR_DELAY'].sum()"
   ]
  },
  {
   "cell_type": "code",
   "execution_count": 8,
   "metadata": {
    "collapsed": false,
    "deletable": true,
    "editable": true
   },
   "outputs": [
    {
     "data": {
      "image/png": "[encoded data removed]",
      "text/plain": [
       "<matplotlib.figure.Figure at 0x1c844f6f748>"
      ]
     },
     "metadata": {},
     "output_type": "display_data"
    }
   ],
   "source": [
    "import matplotlib.pyplot as plt\n",
    "\n",
    "xx=chart['DAY_OF_WEEK']\n",
    "\n",
    "yy=chart['ARR_DELAY']\n",
    "\n",
    "plt.plot(xx, yy, linewidth=2.0)\n",
    "\n",
    "plt.xlabel('Day of the week')\n",
    "plt.ylabel('Aggregated delay time')\n",
    "\n",
    "plt.show()\n"
   ]
  },
  {
   "cell_type": "code",
   "execution_count": null,
   "metadata": {
    "collapsed": true,
    "deletable": true,
    "editable": true
   },
   "outputs": [],
   "source": []
  },
  {
   "cell_type": "code",
   "execution_count": 9,
   "metadata": {
    "collapsed": true,
    "deletable": true,
    "editable": true
   },
   "outputs": [],
   "source": [
    "newdate=pd.to_datetime((fltdba.YEAR*10000+fltdba.MONTH*100+fltdba.DAY_OF_MONTH).apply(str),format='%Y%m%d')"
   ]
  },
  {
   "cell_type": "code",
   "execution_count": 10,
   "metadata": {
    "collapsed": false,
    "deletable": true,
    "editable": true
   },
   "outputs": [],
   "source": [
    "import datetime\n",
    "\n",
    "holidays =['2014-01-01', '2014-01-20', '2014-02-17', '2014-05-26',\n",
    "            '2014-07-04', '2014-09-01', '2014-10-13', '2013-11-11',\n",
    "            '2013-11-28', '2013-12-25'] \n",
    "\n",
    "hdates = []\n",
    "\n",
    "def closest(d):\n",
    "    _d = min(hdates, key=lambda x:abs(x-d))\n",
    "    _diff = abs(_d - d).days\n",
    "    return _d, _diff\n",
    "\n",
    "\n",
    "def retdat(txt):\n",
    "    _t = txt.split(\"-\")\n",
    "    return datetime.date(int(_t[0]), int(_t[1]), int(_t[2]))\n",
    "\n",
    "\n",
    "\n",
    "for h in holidays:\n",
    "    hdates.append(retdat(h))\n",
    "\n",
    "\n",
    "hash_table = {}\n",
    "\n",
    "i_date = datetime.date(2013, 11, 1)\n",
    "\n",
    "while i_date < datetime.date(2014,11,1):\n",
    "    cd, cdiff = closest(i_date)\n",
    "    hash_table[i_date] = cdiff\n",
    "    i_date = i_date + datetime.timedelta(days=1)\n",
    "\n",
    "\n"
   ]
  },
  {
   "cell_type": "code",
   "execution_count": 11,
   "metadata": {
    "collapsed": false,
    "deletable": true,
    "editable": true
   },
   "outputs": [],
   "source": [
    "holdlist=[]\n",
    "for ii in range(len(newdate)):\n",
    "    aa=str(newdate[ii])\n",
    "    b=aa[0:4]\n",
    "    c=aa[5:7]\n",
    "    d=aa[8:10]\n",
    "    holdlist.append(hash_table[datetime.date(int(b),int(c),int(d))])\n",
    "    \n",
    "\n"
   ]
  },
  {
   "cell_type": "code",
   "execution_count": null,
   "metadata": {
    "collapsed": true,
    "deletable": true,
    "editable": true
   },
   "outputs": [],
   "source": []
  },
  {
   "cell_type": "code",
   "execution_count": 12,
   "metadata": {
    "collapsed": true,
    "deletable": true,
    "editable": true
   },
   "outputs": [],
   "source": [
    "se = pd.Series(holdlist)"
   ]
  },
  {
   "cell_type": "code",
   "execution_count": 13,
   "metadata": {
    "collapsed": false,
    "deletable": true,
    "editable": true
   },
   "outputs": [],
   "source": [
    "fltdba['datediff'] = se.values"
   ]
  },
  {
   "cell_type": "code",
   "execution_count": 14,
   "metadata": {
    "collapsed": false,
    "deletable": true,
    "editable": true
   },
   "outputs": [
    {
     "data": {
      "text/html": [
       "<div>\n",
       "<table border=\"1\" class=\"dataframe\">\n",
       "  <thead>\n",
       "    <tr style=\"text-align: right;\">\n",
       "      <th></th>\n",
       "      <th>Unnamed: 0</th>\n",
       "      <th>YEAR</th>\n",
       "      <th>MONTH</th>\n",
       "      <th>DAY_OF_MONTH</th>\n",
       "      <th>DAY_OF_WEEK</th>\n",
       "      <th>ORIGIN_AIRPORT_ID</th>\n",
       "      <th>DEST_AIRPORT_ID</th>\n",
       "      <th>CRS_DEP_TIME</th>\n",
       "      <th>CRS_ARR_TIME</th>\n",
       "      <th>ARR_DELAY</th>\n",
       "      <th>CRS_ELAPSED_TIME</th>\n",
       "      <th>DISTANCE</th>\n",
       "      <th>datediff</th>\n",
       "    </tr>\n",
       "  </thead>\n",
       "  <tbody>\n",
       "    <tr>\n",
       "      <th>count</th>\n",
       "      <td>590060.000000</td>\n",
       "      <td>590060.0</td>\n",
       "      <td>590060.000000</td>\n",
       "      <td>590060.000000</td>\n",
       "      <td>590060.000000</td>\n",
       "      <td>590060.000000</td>\n",
       "      <td>590060.000000</td>\n",
       "      <td>590060.000000</td>\n",
       "      <td>590060.000000</td>\n",
       "      <td>552312.000000</td>\n",
       "      <td>590060.000000</td>\n",
       "      <td>590060.000000</td>\n",
       "      <td>590060.000000</td>\n",
       "    </tr>\n",
       "    <tr>\n",
       "      <th>mean</th>\n",
       "      <td>295030.500000</td>\n",
       "      <td>2014.0</td>\n",
       "      <td>1.200168</td>\n",
       "      <td>15.661668</td>\n",
       "      <td>3.935198</td>\n",
       "      <td>12640.135759</td>\n",
       "      <td>12640.357611</td>\n",
       "      <td>1323.964092</td>\n",
       "      <td>11.662833</td>\n",
       "      <td>11.389139</td>\n",
       "      <td>142.901052</td>\n",
       "      <td>831.141606</td>\n",
       "      <td>5.415578</td>\n",
       "    </tr>\n",
       "    <tr>\n",
       "      <th>std</th>\n",
       "      <td>170335.794257</td>\n",
       "      <td>0.0</td>\n",
       "      <td>0.400126</td>\n",
       "      <td>8.832138</td>\n",
       "      <td>1.926137</td>\n",
       "      <td>1532.779636</td>\n",
       "      <td>1532.741823</td>\n",
       "      <td>462.217705</td>\n",
       "      <td>6.886225</td>\n",
       "      <td>47.157259</td>\n",
       "      <td>75.763359</td>\n",
       "      <td>606.202628</td>\n",
       "      <td>3.373130</td>\n",
       "    </tr>\n",
       "    <tr>\n",
       "      <th>min</th>\n",
       "      <td>1.000000</td>\n",
       "      <td>2014.0</td>\n",
       "      <td>1.000000</td>\n",
       "      <td>1.000000</td>\n",
       "      <td>1.000000</td>\n",
       "      <td>10135.000000</td>\n",
       "      <td>10135.000000</td>\n",
       "      <td>5.000000</td>\n",
       "      <td>0.000000</td>\n",
       "      <td>-112.000000</td>\n",
       "      <td>19.000000</td>\n",
       "      <td>31.000000</td>\n",
       "      <td>0.000000</td>\n",
       "    </tr>\n",
       "    <tr>\n",
       "      <th>25%</th>\n",
       "      <td>147515.750000</td>\n",
       "      <td>2014.0</td>\n",
       "      <td>1.000000</td>\n",
       "      <td>8.000000</td>\n",
       "      <td>2.000000</td>\n",
       "      <td>11292.000000</td>\n",
       "      <td>11292.000000</td>\n",
       "      <td>930.000000</td>\n",
       "      <td>6.000000</td>\n",
       "      <td>-11.000000</td>\n",
       "      <td>86.000000</td>\n",
       "      <td>377.000000</td>\n",
       "      <td>3.000000</td>\n",
       "    </tr>\n",
       "    <tr>\n",
       "      <th>50%</th>\n",
       "      <td>295030.500000</td>\n",
       "      <td>2014.0</td>\n",
       "      <td>1.000000</td>\n",
       "      <td>16.000000</td>\n",
       "      <td>4.000000</td>\n",
       "      <td>12889.000000</td>\n",
       "      <td>12889.000000</td>\n",
       "      <td>1320.000000</td>\n",
       "      <td>12.000000</td>\n",
       "      <td>-2.000000</td>\n",
       "      <td>124.000000</td>\n",
       "      <td>669.000000</td>\n",
       "      <td>5.000000</td>\n",
       "    </tr>\n",
       "    <tr>\n",
       "      <th>75%</th>\n",
       "      <td>442545.250000</td>\n",
       "      <td>2014.0</td>\n",
       "      <td>1.000000</td>\n",
       "      <td>23.000000</td>\n",
       "      <td>5.000000</td>\n",
       "      <td>13930.000000</td>\n",
       "      <td>13930.000000</td>\n",
       "      <td>1715.000000</td>\n",
       "      <td>18.000000</td>\n",
       "      <td>16.000000</td>\n",
       "      <td>175.000000</td>\n",
       "      <td>1076.000000</td>\n",
       "      <td>8.000000</td>\n",
       "    </tr>\n",
       "    <tr>\n",
       "      <th>max</th>\n",
       "      <td>590060.000000</td>\n",
       "      <td>2014.0</td>\n",
       "      <td>2.000000</td>\n",
       "      <td>31.000000</td>\n",
       "      <td>7.000000</td>\n",
       "      <td>16218.000000</td>\n",
       "      <td>16218.000000</td>\n",
       "      <td>2359.000000</td>\n",
       "      <td>23.000000</td>\n",
       "      <td>1628.000000</td>\n",
       "      <td>670.000000</td>\n",
       "      <td>4983.000000</td>\n",
       "      <td>14.000000</td>\n",
       "    </tr>\n",
       "  </tbody>\n",
       "</table>\n",
       "</div>"
      ],
      "text/plain": [
       "          Unnamed: 0      YEAR          MONTH   DAY_OF_MONTH    DAY_OF_WEEK  \\\n",
       "count  590060.000000  590060.0  590060.000000  590060.000000  590060.000000   \n",
       "mean   295030.500000    2014.0       1.200168      15.661668       3.935198   \n",
       "std    170335.794257       0.0       0.400126       8.832138       1.926137   \n",
       "min         1.000000    2014.0       1.000000       1.000000       1.000000   \n",
       "25%    147515.750000    2014.0       1.000000       8.000000       2.000000   \n",
       "50%    295030.500000    2014.0       1.000000      16.000000       4.000000   \n",
       "75%    442545.250000    2014.0       1.000000      23.000000       5.000000   \n",
       "max    590060.000000    2014.0       2.000000      31.000000       7.000000   \n",
       "\n",
       "       ORIGIN_AIRPORT_ID  DEST_AIRPORT_ID   CRS_DEP_TIME   CRS_ARR_TIME  \\\n",
       "count      590060.000000    590060.000000  590060.000000  590060.000000   \n",
       "mean        12640.135759     12640.357611    1323.964092      11.662833   \n",
       "std          1532.779636      1532.741823     462.217705       6.886225   \n",
       "min         10135.000000     10135.000000       5.000000       0.000000   \n",
       "25%         11292.000000     11292.000000     930.000000       6.000000   \n",
       "50%         12889.000000     12889.000000    1320.000000      12.000000   \n",
       "75%         13930.000000     13930.000000    1715.000000      18.000000   \n",
       "max         16218.000000     16218.000000    2359.000000      23.000000   \n",
       "\n",
       "           ARR_DELAY  CRS_ELAPSED_TIME       DISTANCE       datediff  \n",
       "count  552312.000000     590060.000000  590060.000000  590060.000000  \n",
       "mean       11.389139        142.901052     831.141606       5.415578  \n",
       "std        47.157259         75.763359     606.202628       3.373130  \n",
       "min      -112.000000         19.000000      31.000000       0.000000  \n",
       "25%       -11.000000         86.000000     377.000000       3.000000  \n",
       "50%        -2.000000        124.000000     669.000000       5.000000  \n",
       "75%        16.000000        175.000000    1076.000000       8.000000  \n",
       "max      1628.000000        670.000000    4983.000000      14.000000  "
      ]
     },
     "execution_count": 14,
     "metadata": {},
     "output_type": "execute_result"
    }
   ],
   "source": [
    "fltdba.describe()"
   ]
  },
  {
   "cell_type": "code",
   "execution_count": 15,
   "metadata": {
    "collapsed": false,
    "deletable": true,
    "editable": true
   },
   "outputs": [
    {
     "name": "stdout",
     "output_type": "stream",
     "text": [
      "<class 'pandas.core.frame.DataFrame'>\n",
      "RangeIndex: 590060 entries, 0 to 590059\n",
      "Data columns (total 14 columns):\n",
      "Unnamed: 0           590060 non-null int64\n",
      "YEAR                 590060 non-null int64\n",
      "MONTH                590060 non-null int64\n",
      "DAY_OF_MONTH         590060 non-null int64\n",
      "DAY_OF_WEEK          590060 non-null int64\n",
      "UNIQUE_CARRIER       590060 non-null object\n",
      "ORIGIN_AIRPORT_ID    590060 non-null int64\n",
      "DEST_AIRPORT_ID      590060 non-null int64\n",
      "CRS_DEP_TIME         590060 non-null int64\n",
      "CRS_ARR_TIME         590060 non-null int64\n",
      "ARR_DELAY            552312 non-null float64\n",
      "CRS_ELAPSED_TIME     590060 non-null float64\n",
      "DISTANCE             590060 non-null int64\n",
      "datediff             590060 non-null int64\n",
      "dtypes: float64(2), int64(11), object(1)\n",
      "memory usage: 63.0+ MB\n"
     ]
    }
   ],
   "source": [
    "fltdba.info()"
   ]
  },
  {
   "cell_type": "code",
   "execution_count": 16,
   "metadata": {
    "collapsed": true,
    "deletable": true,
    "editable": true
   },
   "outputs": [],
   "source": [
    "fltdba=fltdba.dropna()"
   ]
  },
  {
   "cell_type": "code",
   "execution_count": 17,
   "metadata": {
    "collapsed": false,
    "deletable": true,
    "editable": true
   },
   "outputs": [
    {
     "data": {
      "text/html": [
       "<div>\n",
       "<table border=\"1\" class=\"dataframe\">\n",
       "  <thead>\n",
       "    <tr style=\"text-align: right;\">\n",
       "      <th></th>\n",
       "      <th>Unnamed: 0</th>\n",
       "      <th>YEAR</th>\n",
       "      <th>MONTH</th>\n",
       "      <th>DAY_OF_MONTH</th>\n",
       "      <th>DAY_OF_WEEK</th>\n",
       "      <th>ORIGIN_AIRPORT_ID</th>\n",
       "      <th>DEST_AIRPORT_ID</th>\n",
       "      <th>CRS_DEP_TIME</th>\n",
       "      <th>CRS_ARR_TIME</th>\n",
       "      <th>ARR_DELAY</th>\n",
       "      <th>CRS_ELAPSED_TIME</th>\n",
       "      <th>DISTANCE</th>\n",
       "      <th>datediff</th>\n",
       "    </tr>\n",
       "  </thead>\n",
       "  <tbody>\n",
       "    <tr>\n",
       "      <th>count</th>\n",
       "      <td>552312.000000</td>\n",
       "      <td>552312.0</td>\n",
       "      <td>552312.000000</td>\n",
       "      <td>552312.000000</td>\n",
       "      <td>552312.000000</td>\n",
       "      <td>552312.000000</td>\n",
       "      <td>552312.000000</td>\n",
       "      <td>552312.000000</td>\n",
       "      <td>552312.000000</td>\n",
       "      <td>552312.000000</td>\n",
       "      <td>552312.000000</td>\n",
       "      <td>552312.000000</td>\n",
       "      <td>552312.000000</td>\n",
       "    </tr>\n",
       "    <tr>\n",
       "      <th>mean</th>\n",
       "      <td>297145.013923</td>\n",
       "      <td>2014.0</td>\n",
       "      <td>1.204037</td>\n",
       "      <td>15.759022</td>\n",
       "      <td>3.961636</td>\n",
       "      <td>12649.008839</td>\n",
       "      <td>12650.132523</td>\n",
       "      <td>1323.300365</td>\n",
       "      <td>11.663648</td>\n",
       "      <td>11.389139</td>\n",
       "      <td>143.760646</td>\n",
       "      <td>839.165376</td>\n",
       "      <td>5.418220</td>\n",
       "    </tr>\n",
       "    <tr>\n",
       "      <th>std</th>\n",
       "      <td>171258.573728</td>\n",
       "      <td>0.0</td>\n",
       "      <td>0.402996</td>\n",
       "      <td>8.719888</td>\n",
       "      <td>1.929803</td>\n",
       "      <td>1534.864635</td>\n",
       "      <td>1535.332795</td>\n",
       "      <td>460.909477</td>\n",
       "      <td>6.886613</td>\n",
       "      <td>47.157259</td>\n",
       "      <td>76.301246</td>\n",
       "      <td>610.516148</td>\n",
       "      <td>3.381209</td>\n",
       "    </tr>\n",
       "    <tr>\n",
       "      <th>min</th>\n",
       "      <td>1.000000</td>\n",
       "      <td>2014.0</td>\n",
       "      <td>1.000000</td>\n",
       "      <td>1.000000</td>\n",
       "      <td>1.000000</td>\n",
       "      <td>10135.000000</td>\n",
       "      <td>10135.000000</td>\n",
       "      <td>5.000000</td>\n",
       "      <td>0.000000</td>\n",
       "      <td>-112.000000</td>\n",
       "      <td>23.000000</td>\n",
       "      <td>31.000000</td>\n",
       "      <td>0.000000</td>\n",
       "    </tr>\n",
       "    <tr>\n",
       "      <th>25%</th>\n",
       "      <td>147491.250000</td>\n",
       "      <td>2014.0</td>\n",
       "      <td>1.000000</td>\n",
       "      <td>8.000000</td>\n",
       "      <td>2.000000</td>\n",
       "      <td>11292.000000</td>\n",
       "      <td>11292.000000</td>\n",
       "      <td>930.000000</td>\n",
       "      <td>6.000000</td>\n",
       "      <td>-11.000000</td>\n",
       "      <td>86.000000</td>\n",
       "      <td>386.000000</td>\n",
       "      <td>3.000000</td>\n",
       "    </tr>\n",
       "    <tr>\n",
       "      <th>50%</th>\n",
       "      <td>300307.500000</td>\n",
       "      <td>2014.0</td>\n",
       "      <td>1.000000</td>\n",
       "      <td>16.000000</td>\n",
       "      <td>4.000000</td>\n",
       "      <td>12889.000000</td>\n",
       "      <td>12889.000000</td>\n",
       "      <td>1320.000000</td>\n",
       "      <td>12.000000</td>\n",
       "      <td>-2.000000</td>\n",
       "      <td>125.000000</td>\n",
       "      <td>678.000000</td>\n",
       "      <td>5.000000</td>\n",
       "    </tr>\n",
       "    <tr>\n",
       "      <th>75%</th>\n",
       "      <td>444979.250000</td>\n",
       "      <td>2014.0</td>\n",
       "      <td>1.000000</td>\n",
       "      <td>23.000000</td>\n",
       "      <td>5.000000</td>\n",
       "      <td>13931.000000</td>\n",
       "      <td>13931.000000</td>\n",
       "      <td>1715.000000</td>\n",
       "      <td>18.000000</td>\n",
       "      <td>16.000000</td>\n",
       "      <td>178.000000</td>\n",
       "      <td>1089.000000</td>\n",
       "      <td>8.000000</td>\n",
       "    </tr>\n",
       "    <tr>\n",
       "      <th>max</th>\n",
       "      <td>590060.000000</td>\n",
       "      <td>2014.0</td>\n",
       "      <td>2.000000</td>\n",
       "      <td>31.000000</td>\n",
       "      <td>7.000000</td>\n",
       "      <td>16218.000000</td>\n",
       "      <td>16218.000000</td>\n",
       "      <td>2359.000000</td>\n",
       "      <td>23.000000</td>\n",
       "      <td>1628.000000</td>\n",
       "      <td>670.000000</td>\n",
       "      <td>4983.000000</td>\n",
       "      <td>14.000000</td>\n",
       "    </tr>\n",
       "  </tbody>\n",
       "</table>\n",
       "</div>"
      ],
      "text/plain": [
       "          Unnamed: 0      YEAR          MONTH   DAY_OF_MONTH    DAY_OF_WEEK  \\\n",
       "count  552312.000000  552312.0  552312.000000  552312.000000  552312.000000   \n",
       "mean   297145.013923    2014.0       1.204037      15.759022       3.961636   \n",
       "std    171258.573728       0.0       0.402996       8.719888       1.929803   \n",
       "min         1.000000    2014.0       1.000000       1.000000       1.000000   \n",
       "25%    147491.250000    2014.0       1.000000       8.000000       2.000000   \n",
       "50%    300307.500000    2014.0       1.000000      16.000000       4.000000   \n",
       "75%    444979.250000    2014.0       1.000000      23.000000       5.000000   \n",
       "max    590060.000000    2014.0       2.000000      31.000000       7.000000   \n",
       "\n",
       "       ORIGIN_AIRPORT_ID  DEST_AIRPORT_ID   CRS_DEP_TIME   CRS_ARR_TIME  \\\n",
       "count      552312.000000    552312.000000  552312.000000  552312.000000   \n",
       "mean        12649.008839     12650.132523    1323.300365      11.663648   \n",
       "std          1534.864635      1535.332795     460.909477       6.886613   \n",
       "min         10135.000000     10135.000000       5.000000       0.000000   \n",
       "25%         11292.000000     11292.000000     930.000000       6.000000   \n",
       "50%         12889.000000     12889.000000    1320.000000      12.000000   \n",
       "75%         13931.000000     13931.000000    1715.000000      18.000000   \n",
       "max         16218.000000     16218.000000    2359.000000      23.000000   \n",
       "\n",
       "           ARR_DELAY  CRS_ELAPSED_TIME       DISTANCE       datediff  \n",
       "count  552312.000000     552312.000000  552312.000000  552312.000000  \n",
       "mean       11.389139        143.760646     839.165376       5.418220  \n",
       "std        47.157259         76.301246     610.516148       3.381209  \n",
       "min      -112.000000         23.000000      31.000000       0.000000  \n",
       "25%       -11.000000         86.000000     386.000000       3.000000  \n",
       "50%        -2.000000        125.000000     678.000000       5.000000  \n",
       "75%        16.000000        178.000000    1089.000000       8.000000  \n",
       "max      1628.000000        670.000000    4983.000000      14.000000  "
      ]
     },
     "execution_count": 17,
     "metadata": {},
     "output_type": "execute_result"
    }
   ],
   "source": [
    "fltdba.describe()"
   ]
  },
  {
   "cell_type": "code",
   "execution_count": null,
   "metadata": {
    "collapsed": true,
    "deletable": true,
    "editable": true
   },
   "outputs": [],
   "source": []
  },
  {
   "cell_type": "code",
   "execution_count": 18,
   "metadata": {
    "collapsed": false,
    "deletable": true,
    "editable": true
   },
   "outputs": [],
   "source": [
    "df1 = fltdba[(fltdba['ARR_DELAY'] > 150)]"
   ]
  },
  {
   "cell_type": "code",
   "execution_count": 19,
   "metadata": {
    "collapsed": false,
    "deletable": true,
    "editable": true
   },
   "outputs": [
    {
     "data": {
      "text/plain": [
       "867"
      ]
     },
     "execution_count": 19,
     "metadata": {},
     "output_type": "execute_result"
    }
   ],
   "source": [
    "df1['ORIGIN_AIRPORT_ID'].value_counts().max() "
   ]
  },
  {
   "cell_type": "code",
   "execution_count": 20,
   "metadata": {
    "collapsed": false,
    "deletable": true,
    "editable": true
   },
   "outputs": [
    {
     "data": {
      "text/plain": [
       "13930"
      ]
     },
     "execution_count": 20,
     "metadata": {},
     "output_type": "execute_result"
    }
   ],
   "source": [
    "df1['ORIGIN_AIRPORT_ID'].value_counts().idxmax() # most frequent value"
   ]
  },
  {
   "cell_type": "code",
   "execution_count": 21,
   "metadata": {
    "collapsed": false,
    "deletable": true,
    "editable": true
   },
   "outputs": [],
   "source": [
    "graphlist=fltdba.groupby(['CRS_ARR_TIME'], as_index=False)['ARR_DELAY'].sum()"
   ]
  },
  {
   "cell_type": "code",
   "execution_count": 22,
   "metadata": {
    "collapsed": false,
    "deletable": true,
    "editable": true
   },
   "outputs": [
    {
     "data": {
      "image/png": "[encoded data removed]",
      "text/plain": [
       "<matplotlib.figure.Figure at 0x1c849763c50>"
      ]
     },
     "metadata": {},
     "output_type": "display_data"
    }
   ],
   "source": [
    "import matplotlib.pyplot as plt\n",
    "x=graphlist['CRS_ARR_TIME']\n",
    "\n",
    "y=graphlist['ARR_DELAY']\n",
    "\n",
    "plt.plot(x, y, linewidth=2.0)\n",
    "\n",
    "plt.xlabel('24 hour clock')\n",
    "plt.ylabel('Aggregated delay time')\n",
    "plt.show()\n"
   ]
  },
  {
   "cell_type": "code",
   "execution_count": 23,
   "metadata": {
    "collapsed": false,
    "deletable": true,
    "editable": true
   },
   "outputs": [
    {
     "data": {
      "image/png": "[encoded data removed]",
      "text/plain": [
       "<matplotlib.figure.Figure at 0x1c84932e668>"
      ]
     },
     "metadata": {},
     "output_type": "display_data"
    }
   ],
   "source": [
    "import seaborn as sns\n",
    "corr = fltdba.corr()\n",
    "sns.heatmap(corr, \n",
    "            xticklabels=corr.columns.values,\n",
    "            yticklabels=corr.columns.values)\n",
    "sns.plt.show()"
   ]
  },
  {
   "cell_type": "code",
   "execution_count": 24,
   "metadata": {
    "collapsed": false,
    "deletable": true,
    "editable": true
   },
   "outputs": [],
   "source": [
    "scalDF = fltdba[['DISTANCE', 'datediff','CRS_ARR_TIME']].astype('float') \n",
    "catDF = fltdba[['MONTH', 'DAY_OF_MONTH', 'ORIGIN_AIRPORT_ID', \n",
    "                    'DEST_AIRPORT_ID', \n",
    "                     'DAY_OF_WEEK']] "
   ]
  },
  {
   "cell_type": "code",
   "execution_count": 25,
   "metadata": {
    "collapsed": false,
    "deletable": true,
    "editable": true
   },
   "outputs": [],
   "source": [
    "from sklearn.preprocessing import OneHotEncoder\n",
    "    \n",
    "encoder = OneHotEncoder() \n",
    "catDF_enc = encoder.fit_transform(catDF) "
   ]
  },
  {
   "cell_type": "code",
   "execution_count": 26,
   "metadata": {
    "collapsed": false,
    "deletable": true,
    "editable": true
   },
   "outputs": [
    {
     "data": {
      "text/plain": [
       "scipy.sparse.csr.csr_matrix"
      ]
     },
     "execution_count": 26,
     "metadata": {},
     "output_type": "execute_result"
    }
   ],
   "source": [
    "type(catDF_enc)"
   ]
  },
  {
   "cell_type": "code",
   "execution_count": 27,
   "metadata": {
    "collapsed": true,
    "deletable": true,
    "editable": true
   },
   "outputs": [],
   "source": [
    "from scipy import sparse \n",
    "scalDFsp = sparse.csr_matrix(scalDF)"
   ]
  },
  {
   "cell_type": "code",
   "execution_count": 28,
   "metadata": {
    "collapsed": true,
    "deletable": true,
    "editable": true
   },
   "outputs": [],
   "source": [
    "xfin = sparse.hstack((scalDFsp, catDF_enc))   "
   ]
  },
  {
   "cell_type": "code",
   "execution_count": 29,
   "metadata": {
    "collapsed": false,
    "deletable": true,
    "editable": true
   },
   "outputs": [],
   "source": [
    "yfin = fltdba['ARR_DELAY'].values"
   ]
  },
  {
   "cell_type": "code",
   "execution_count": 30,
   "metadata": {
    "collapsed": false,
    "deletable": true,
    "editable": true
   },
   "outputs": [
    {
     "name": "stderr",
     "output_type": "stream",
     "text": [
      "C:\\Users\\Rayyan\\AppData\\Local\\Enthought\\Canopy\\edm\\envs\\User\\lib\\site-packages\\sklearn\\cross_validation.py:44: DeprecationWarning: This module was deprecated in version 0.18 in favor of the model_selection module into which all the refactored classes and functions are moved. Also note that the interface of the new CV iterators are different from that of this module. This module will be removed in 0.20.\n",
      "  \"This module will be removed in 0.20.\", DeprecationWarning)\n"
     ]
    }
   ],
   "source": [
    "from sklearn.cross_validation import train_test_split\n",
    "\n",
    "x_train, x_test, y_train, y_test = train_test_split(xfin,yfin,test_size = 0.2,random_state = 0) "
   ]
  },
  {
   "cell_type": "code",
   "execution_count": 31,
   "metadata": {
    "collapsed": false,
    "deletable": true,
    "editable": true
   },
   "outputs": [],
   "source": [
    "xtrainnum = x_train[:, 0:3].toarray() \n",
    "xtestnum = x_test[:, 0:3].toarray()"
   ]
  },
  {
   "cell_type": "code",
   "execution_count": 32,
   "metadata": {
    "collapsed": true,
    "deletable": true,
    "editable": true
   },
   "outputs": [],
   "source": [
    "from sklearn.preprocessing import StandardScaler\n",
    "    \n",
    "scaler = StandardScaler()\n",
    "scaler.fit(xtrainnum) \n",
    "xtrainnum = sparse.csr_matrix(scaler.transform(xtrainnum)) \n",
    "xtestnum = sparse.csr_matrix(scaler.transform(xtestnum))"
   ]
  },
  {
   "cell_type": "code",
   "execution_count": 33,
   "metadata": {
    "collapsed": false,
    "deletable": true,
    "editable": true
   },
   "outputs": [
    {
     "name": "stderr",
     "output_type": "stream",
     "text": [
      "C:\\Users\\Rayyan\\AppData\\Local\\Enthought\\Canopy\\edm\\envs\\User\\lib\\site-packages\\scipy\\sparse\\compressed.py:774: SparseEfficiencyWarning: Changing the sparsity structure of a csr_matrix is expensive. lil_matrix is more efficient.\n",
      "  SparseEfficiencyWarning)\n"
     ]
    }
   ],
   "source": [
    "x_train[:, 0:3] = xtrainnum\n",
    "x_test[:, 0:3] = xtestnum"
   ]
  },
  {
   "cell_type": "code",
   "execution_count": 34,
   "metadata": {
    "collapsed": false,
    "deletable": true,
    "editable": true
   },
   "outputs": [
    {
     "name": "stderr",
     "output_type": "stream",
     "text": [
      "C:\\Users\\Rayyan\\AppData\\Local\\Enthought\\Canopy\\edm\\envs\\User\\lib\\site-packages\\sklearn\\grid_search.py:43: DeprecationWarning: This module was deprecated in version 0.18 in favor of the model_selection module into which all the refactored classes and functions are moved. This module will be removed in 0.20.\n",
      "  DeprecationWarning)\n"
     ]
    }
   ],
   "source": [
    "from sklearn.linear_model import SGDRegressor\n",
    "from sklearn.grid_search import GridSearchCV\n",
    "import numpy as np\n",
    "    \n"
   ]
  },
  {
   "cell_type": "code",
   "execution_count": 35,
   "metadata": {
    "collapsed": false,
    "deletable": true,
    "editable": true
   },
   "outputs": [],
   "source": [
    "gridz=GridSearchCV(cv=5,estimator=SGDRegressor(alpha=0.0001, epsilon=0.1, eta0=0.01, fit_intercept=True),\n",
    "\n",
    "    fit_params={}, iid=True,  n_jobs=1,\n",
    "    \n",
    "        param_grid={'alpha': np.array([  1.00000e-01,   1.00000e-02,   1.00000e-03,   1.00000e-04,\n",
    "        1.00000e-05,   1.00000e-06])},\n",
    "    pre_dispatch='2*n_jobs', refit=True,\n",
    "    scoring='mean_absolute_error', verbose=0)"
   ]
  },
  {
   "cell_type": "code",
   "execution_count": 36,
   "metadata": {
    "collapsed": false,
    "deletable": true,
    "editable": true
   },
   "outputs": [
    {
     "name": "stderr",
     "output_type": "stream",
     "text": [
      "C:\\Users\\Rayyan\\AppData\\Local\\Enthought\\Canopy\\edm\\envs\\User\\lib\\site-packages\\sklearn\\metrics\\scorer.py:90: DeprecationWarning: Scoring method mean_absolute_error was renamed to neg_mean_absolute_error in version 0.18 and will be removed in 0.20.\n",
      "  sample_weight=sample_weight)\n",
      "C:\\Users\\Rayyan\\AppData\\Local\\Enthought\\Canopy\\edm\\envs\\User\\lib\\site-packages\\sklearn\\metrics\\scorer.py:90: DeprecationWarning: Scoring method mean_absolute_error was renamed to neg_mean_absolute_error in version 0.18 and will be removed in 0.20.\n",
      "  sample_weight=sample_weight)\n",
      "C:\\Users\\Rayyan\\AppData\\Local\\Enthought\\Canopy\\edm\\envs\\User\\lib\\site-packages\\sklearn\\metrics\\scorer.py:90: DeprecationWarning: Scoring method mean_absolute_error was renamed to neg_mean_absolute_error in version 0.18 and will be removed in 0.20.\n",
      "  sample_weight=sample_weight)\n",
      "C:\\Users\\Rayyan\\AppData\\Local\\Enthought\\Canopy\\edm\\envs\\User\\lib\\site-packages\\sklearn\\metrics\\scorer.py:90: DeprecationWarning: Scoring method mean_absolute_error was renamed to neg_mean_absolute_error in version 0.18 and will be removed in 0.20.\n",
      "  sample_weight=sample_weight)\n",
      "C:\\Users\\Rayyan\\AppData\\Local\\Enthought\\Canopy\\edm\\envs\\User\\lib\\site-packages\\sklearn\\metrics\\scorer.py:90: DeprecationWarning: Scoring method mean_absolute_error was renamed to neg_mean_absolute_error in version 0.18 and will be removed in 0.20.\n",
      "  sample_weight=sample_weight)\n",
      "C:\\Users\\Rayyan\\AppData\\Local\\Enthought\\Canopy\\edm\\envs\\User\\lib\\site-packages\\sklearn\\metrics\\scorer.py:90: DeprecationWarning: Scoring method mean_absolute_error was renamed to neg_mean_absolute_error in version 0.18 and will be removed in 0.20.\n",
      "  sample_weight=sample_weight)\n",
      "C:\\Users\\Rayyan\\AppData\\Local\\Enthought\\Canopy\\edm\\envs\\User\\lib\\site-packages\\sklearn\\metrics\\scorer.py:90: DeprecationWarning: Scoring method mean_absolute_error was renamed to neg_mean_absolute_error in version 0.18 and will be removed in 0.20.\n",
      "  sample_weight=sample_weight)\n",
      "C:\\Users\\Rayyan\\AppData\\Local\\Enthought\\Canopy\\edm\\envs\\User\\lib\\site-packages\\sklearn\\metrics\\scorer.py:90: DeprecationWarning: Scoring method mean_absolute_error was renamed to neg_mean_absolute_error in version 0.18 and will be removed in 0.20.\n",
      "  sample_weight=sample_weight)\n",
      "C:\\Users\\Rayyan\\AppData\\Local\\Enthought\\Canopy\\edm\\envs\\User\\lib\\site-packages\\sklearn\\metrics\\scorer.py:90: DeprecationWarning: Scoring method mean_absolute_error was renamed to neg_mean_absolute_error in version 0.18 and will be removed in 0.20.\n",
      "  sample_weight=sample_weight)\n",
      "C:\\Users\\Rayyan\\AppData\\Local\\Enthought\\Canopy\\edm\\envs\\User\\lib\\site-packages\\sklearn\\metrics\\scorer.py:90: DeprecationWarning: Scoring method mean_absolute_error was renamed to neg_mean_absolute_error in version 0.18 and will be removed in 0.20.\n",
      "  sample_weight=sample_weight)\n",
      "C:\\Users\\Rayyan\\AppData\\Local\\Enthought\\Canopy\\edm\\envs\\User\\lib\\site-packages\\sklearn\\metrics\\scorer.py:90: DeprecationWarning: Scoring method mean_absolute_error was renamed to neg_mean_absolute_error in version 0.18 and will be removed in 0.20.\n",
      "  sample_weight=sample_weight)\n",
      "C:\\Users\\Rayyan\\AppData\\Local\\Enthought\\Canopy\\edm\\envs\\User\\lib\\site-packages\\sklearn\\metrics\\scorer.py:90: DeprecationWarning: Scoring method mean_absolute_error was renamed to neg_mean_absolute_error in version 0.18 and will be removed in 0.20.\n",
      "  sample_weight=sample_weight)\n",
      "C:\\Users\\Rayyan\\AppData\\Local\\Enthought\\Canopy\\edm\\envs\\User\\lib\\site-packages\\sklearn\\metrics\\scorer.py:90: DeprecationWarning: Scoring method mean_absolute_error was renamed to neg_mean_absolute_error in version 0.18 and will be removed in 0.20.\n",
      "  sample_weight=sample_weight)\n",
      "C:\\Users\\Rayyan\\AppData\\Local\\Enthought\\Canopy\\edm\\envs\\User\\lib\\site-packages\\sklearn\\metrics\\scorer.py:90: DeprecationWarning: Scoring method mean_absolute_error was renamed to neg_mean_absolute_error in version 0.18 and will be removed in 0.20.\n",
      "  sample_weight=sample_weight)\n",
      "C:\\Users\\Rayyan\\AppData\\Local\\Enthought\\Canopy\\edm\\envs\\User\\lib\\site-packages\\sklearn\\metrics\\scorer.py:90: DeprecationWarning: Scoring method mean_absolute_error was renamed to neg_mean_absolute_error in version 0.18 and will be removed in 0.20.\n",
      "  sample_weight=sample_weight)\n",
      "C:\\Users\\Rayyan\\AppData\\Local\\Enthought\\Canopy\\edm\\envs\\User\\lib\\site-packages\\sklearn\\metrics\\scorer.py:90: DeprecationWarning: Scoring method mean_absolute_error was renamed to neg_mean_absolute_error in version 0.18 and will be removed in 0.20.\n",
      "  sample_weight=sample_weight)\n",
      "C:\\Users\\Rayyan\\AppData\\Local\\Enthought\\Canopy\\edm\\envs\\User\\lib\\site-packages\\sklearn\\metrics\\scorer.py:90: DeprecationWarning: Scoring method mean_absolute_error was renamed to neg_mean_absolute_error in version 0.18 and will be removed in 0.20.\n",
      "  sample_weight=sample_weight)\n",
      "C:\\Users\\Rayyan\\AppData\\Local\\Enthought\\Canopy\\edm\\envs\\User\\lib\\site-packages\\sklearn\\metrics\\scorer.py:90: DeprecationWarning: Scoring method mean_absolute_error was renamed to neg_mean_absolute_error in version 0.18 and will be removed in 0.20.\n",
      "  sample_weight=sample_weight)\n",
      "C:\\Users\\Rayyan\\AppData\\Local\\Enthought\\Canopy\\edm\\envs\\User\\lib\\site-packages\\sklearn\\metrics\\scorer.py:90: DeprecationWarning: Scoring method mean_absolute_error was renamed to neg_mean_absolute_error in version 0.18 and will be removed in 0.20.\n",
      "  sample_weight=sample_weight)\n",
      "C:\\Users\\Rayyan\\AppData\\Local\\Enthought\\Canopy\\edm\\envs\\User\\lib\\site-packages\\sklearn\\metrics\\scorer.py:90: DeprecationWarning: Scoring method mean_absolute_error was renamed to neg_mean_absolute_error in version 0.18 and will be removed in 0.20.\n",
      "  sample_weight=sample_weight)\n",
      "C:\\Users\\Rayyan\\AppData\\Local\\Enthought\\Canopy\\edm\\envs\\User\\lib\\site-packages\\sklearn\\metrics\\scorer.py:90: DeprecationWarning: Scoring method mean_absolute_error was renamed to neg_mean_absolute_error in version 0.18 and will be removed in 0.20.\n",
      "  sample_weight=sample_weight)\n",
      "C:\\Users\\Rayyan\\AppData\\Local\\Enthought\\Canopy\\edm\\envs\\User\\lib\\site-packages\\sklearn\\metrics\\scorer.py:90: DeprecationWarning: Scoring method mean_absolute_error was renamed to neg_mean_absolute_error in version 0.18 and will be removed in 0.20.\n",
      "  sample_weight=sample_weight)\n",
      "C:\\Users\\Rayyan\\AppData\\Local\\Enthought\\Canopy\\edm\\envs\\User\\lib\\site-packages\\sklearn\\metrics\\scorer.py:90: DeprecationWarning: Scoring method mean_absolute_error was renamed to neg_mean_absolute_error in version 0.18 and will be removed in 0.20.\n",
      "  sample_weight=sample_weight)\n",
      "C:\\Users\\Rayyan\\AppData\\Local\\Enthought\\Canopy\\edm\\envs\\User\\lib\\site-packages\\sklearn\\metrics\\scorer.py:90: DeprecationWarning: Scoring method mean_absolute_error was renamed to neg_mean_absolute_error in version 0.18 and will be removed in 0.20.\n",
      "  sample_weight=sample_weight)\n",
      "C:\\Users\\Rayyan\\AppData\\Local\\Enthought\\Canopy\\edm\\envs\\User\\lib\\site-packages\\sklearn\\metrics\\scorer.py:90: DeprecationWarning: Scoring method mean_absolute_error was renamed to neg_mean_absolute_error in version 0.18 and will be removed in 0.20.\n",
      "  sample_weight=sample_weight)\n",
      "C:\\Users\\Rayyan\\AppData\\Local\\Enthought\\Canopy\\edm\\envs\\User\\lib\\site-packages\\sklearn\\metrics\\scorer.py:90: DeprecationWarning: Scoring method mean_absolute_error was renamed to neg_mean_absolute_error in version 0.18 and will be removed in 0.20.\n",
      "  sample_weight=sample_weight)\n",
      "C:\\Users\\Rayyan\\AppData\\Local\\Enthought\\Canopy\\edm\\envs\\User\\lib\\site-packages\\sklearn\\metrics\\scorer.py:90: DeprecationWarning: Scoring method mean_absolute_error was renamed to neg_mean_absolute_error in version 0.18 and will be removed in 0.20.\n",
      "  sample_weight=sample_weight)\n",
      "C:\\Users\\Rayyan\\AppData\\Local\\Enthought\\Canopy\\edm\\envs\\User\\lib\\site-packages\\sklearn\\metrics\\scorer.py:90: DeprecationWarning: Scoring method mean_absolute_error was renamed to neg_mean_absolute_error in version 0.18 and will be removed in 0.20.\n",
      "  sample_weight=sample_weight)\n",
      "C:\\Users\\Rayyan\\AppData\\Local\\Enthought\\Canopy\\edm\\envs\\User\\lib\\site-packages\\sklearn\\metrics\\scorer.py:90: DeprecationWarning: Scoring method mean_absolute_error was renamed to neg_mean_absolute_error in version 0.18 and will be removed in 0.20.\n",
      "  sample_weight=sample_weight)\n",
      "C:\\Users\\Rayyan\\AppData\\Local\\Enthought\\Canopy\\edm\\envs\\User\\lib\\site-packages\\sklearn\\metrics\\scorer.py:90: DeprecationWarning: Scoring method mean_absolute_error was renamed to neg_mean_absolute_error in version 0.18 and will be removed in 0.20.\n",
      "  sample_weight=sample_weight)\n"
     ]
    },
    {
     "data": {
      "text/plain": [
       "GridSearchCV(cv=5, error_score='raise',\n",
       "       estimator=SGDRegressor(alpha=0.0001, average=False, epsilon=0.1, eta0=0.01,\n",
       "       fit_intercept=True, l1_ratio=0.15, learning_rate='invscaling',\n",
       "       loss='squared_loss', n_iter=5, penalty='l2', power_t=0.25,\n",
       "       random_state=None, shuffle=True, verbose=0, warm_start=False),\n",
       "       fit_params={}, iid=True, n_jobs=1,\n",
       "       param_grid={'alpha': array([  1.00000e-01,   1.00000e-02,   1.00000e-03,   1.00000e-04,\n",
       "         1.00000e-05,   1.00000e-06])},\n",
       "       pre_dispatch='2*n_jobs', refit=True, scoring='mean_absolute_error',\n",
       "       verbose=0)"
      ]
     },
     "execution_count": 36,
     "metadata": {},
     "output_type": "execute_result"
    }
   ],
   "source": [
    "gridz.fit(x_train,y_train)"
   ]
  },
  {
   "cell_type": "code",
   "execution_count": 37,
   "metadata": {
    "collapsed": false,
    "deletable": true,
    "editable": true
   },
   "outputs": [
    {
     "name": "stdout",
     "output_type": "stream",
     "text": [
      "Mean absolute error of SGD regression was:\n",
      "25.2437750298\n"
     ]
    }
   ],
   "source": [
    "from sklearn.metrics import mean_absolute_error\n",
    "\n",
    "y_true, y_pred = y_test, gridz.predict(x_test) # Predict on our test set\n",
    "    \n",
    "print('Mean absolute error of SGD regression was:')\n",
    "print(mean_absolute_error(y_true, y_pred))"
   ]
  },
  {
   "cell_type": "code",
   "execution_count": null,
   "metadata": {
    "collapsed": true,
    "deletable": true,
    "editable": true
   },
   "outputs": [],
   "source": []
  },
  {
   "cell_type": "code",
   "execution_count": null,
   "metadata": {
    "collapsed": true,
    "deletable": true,
    "editable": true
   },
   "outputs": [],
   "source": []
  },
  {
   "cell_type": "code",
   "execution_count": null,
   "metadata": {
    "collapsed": true,
    "deletable": true,
    "editable": true
   },
   "outputs": [],
   "source": []
  }
 ],
 "metadata": {
  "kernelspec": {
   "display_name": "Python 3",
   "language": "python",
   "name": "python3"
  },
  "language_info": {
   "codemirror_mode": {
    "name": "ipython",
    "version": 3
   },
   "file_extension": ".py",
   "mimetype": "text/x-python",
   "name": "python",
   "nbconvert_exporter": "python",
   "pygments_lexer": "ipython3",
   "version": "3.5.2"
  }
 },
 "nbformat": 4,
 "nbformat_minor": 2
}
